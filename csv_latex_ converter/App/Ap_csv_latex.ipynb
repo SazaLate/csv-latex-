{
 "cells": [
  {
   "cell_type": "code",
   "execution_count": 2,
   "metadata": {},
   "outputs": [
    {
     "name": "stdout",
     "output_type": "stream",
     "text": [
      "[]\n"
     ]
    }
   ],
   "source": [
    "#ライブラリ置き場\n",
    "import pandas as pd\n",
    "import csv #Pythonでcsvを扱うためのライブラリ\n",
    "import glob #ファイル検索をするライブラリ\n",
    "import os\n",
    "import re\n",
    "import pprint\n",
    "\n",
    "#ファイル名を検索する\n",
    "#filename = input('ファイル名を入力')\n",
    "\n",
    "path = \"/csv_latex_converter/sample\"\n",
    "csv = glob.glob(path + '/**.csv')\n",
    "print(csv)\n",
    "\n",
    "\n",
    "#csv_latex_ converter - App\n",
    "#                     - sample - sample1.csv(検出されない)\n",
    "#                              - sample2.csv(検出されない)\n",
    "#                              - sample3.txt"
   ]
  },
  {
   "cell_type": "code",
   "execution_count": null,
   "metadata": {},
   "outputs": [],
   "source": [
    "result = []\n",
    "with open(\"sample1.csv\",'rt',encoding = \"utf-8\") as f:\n",
    "    reader = csv.reader(f)\n",
    "\n",
    "    \n",
    "print(\"\\\\begin{table}[htbp]\\n\\t\\\\begin{center}\\n\\t\\t\\\\begin{tabular}{|l|p{10cm}|}\\\\hline\")\n",
    "print(\"\\t\\t\\t\" + ' & '.join(header) + \"\\\\\\\\\\\\hline\\hline\")\n",
    "for i in value:\n",
    "    val_res = ' & '.join([str(n) for n in i])\n",
    "    #print(val_res)\n",
    "    print(\"\\t\\t\\t\" + val_res + \"\\\\\\\\\\\\hline\")\n",
    "print(\"\\t\\t\\\\end{tabular}\\n\\t\\\\end{center}\\n\\\\end{table}\")"
   ]
  }
 ],
 "metadata": {
  "kernelspec": {
   "display_name": "Python 3",
   "language": "python",
   "name": "python3"
  },
  "language_info": {
   "codemirror_mode": {
    "name": "ipython",
    "version": 3
   },
   "file_extension": ".py",
   "mimetype": "text/x-python",
   "name": "python",
   "nbconvert_exporter": "python",
   "pygments_lexer": "ipython3",
   "version": "3.8.3"
  }
 },
 "nbformat": 4,
 "nbformat_minor": 4
}
